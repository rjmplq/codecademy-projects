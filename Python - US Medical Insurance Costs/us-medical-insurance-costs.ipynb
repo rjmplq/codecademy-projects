{
 "cells": [
  {
   "cell_type": "markdown",
   "metadata": {},
   "source": [
    "# U.S. Medical Insurance Costs"
   ]
  },
  {
   "cell_type": "markdown",
   "metadata": {},
   "source": [
    "Key questions for the project:\n",
    "- "
   ]
  },
  {
   "cell_type": "markdown",
   "metadata": {},
   "source": [
    "### Importing Modules\n",
    "For this project, I am importing the csv module and some functions from the operator module. The csv module will be used to read the data from the insurance.csv file. The operator functions will be used in a function that will allow me to search based on specific parameters."
   ]
  },
  {
   "cell_type": "code",
   "execution_count": 1,
   "metadata": {},
   "outputs": [],
   "source": [
    "import csv\n",
    "from operator import lt, le, eq, ne, gt, ge"
   ]
  },
  {
   "cell_type": "markdown",
   "metadata": {},
   "source": [
    "### Creating a class with several methods including loading and analyzing the data\n",
    "I can now create a class with methods that will allow me to retrieve data from a csv, clean the data as necessary, create a dictionary based on the clean data, and perform various calculations."
   ]
  },
  {
   "cell_type": "code",
   "execution_count": 5,
   "metadata": {},
   "outputs": [],
   "source": [
    "class Insurance_Data:\n",
    "    def __init__(self, csv_file):\n",
    "        self.csv_file = csv_file\n",
    "        self.age_data = []\n",
    "        self.sex_data = []\n",
    "        self.bmi_data = []\n",
    "        self.children_data = []\n",
    "        self.smoker_data = []\n",
    "        self.region_data = []\n",
    "        self.charges_data = []\n",
    "        self.data = {}\n",
    "        \n",
    "    def get_csv_data(self):\n",
    "        with open(self.csv_file) as csv_data:\n",
    "            \n",
    "            csv_contents = csv.DictReader(csv_data)\n",
    "            for line in csv_contents:\n",
    "                age_value, sex_value, bmi_value, children_value, smoker_value, region_value, charges_value = line.values()\n",
    "                self.age_data.append(int(age_value))\n",
    "                self.sex_data.append(sex_value)\n",
    "                self.bmi_data.append(float(bmi_value))\n",
    "                self.children_data.append(int(children_value))\n",
    "                self.smoker_data.append(smoker_value)\n",
    "                self.region_data.append(region_value)\n",
    "                self.charges_data.append(float(charges_value))\n",
    "            self.zipped_data = zip(self.age_data, self.sex_data, self.bmi_data, self.children_data, self.smoker_data, self.region_data, self.charges_data)\n",
    "\n",
    "    def create_dictionary(self):\n",
    "        self.get_csv_data()\n",
    "        i= 0\n",
    "        for age_value, sex_value, bmi_value, children_value, smoker_value, region_value, charge_value in self.zipped_data:\n",
    "            record_id = 'patient ' + str(i+1)\n",
    "            self.data[record_id] = {\n",
    "                                    'age': age_value,\n",
    "                                    'sex': sex_value,\n",
    "                                    'bmi' : bmi_value,\n",
    "                                    'children'  : children_value,\n",
    "                                    'smoker' : smoker_value,\n",
    "                                    'region' : region_value,\n",
    "                                    'charges':  charge_value\n",
    "                                    }\n",
    "            i = i + 1\n",
    "    \n",
    "    \n",
    "    def search(self, charges_op=eq, bmi_op=eq, children_op=eq, age_op=eq, **search_criteria):\n",
    "        results = []\n",
    "        \n",
    "        for patient, record in self.data.items():\n",
    "            criteria_match = 1\n",
    "            for key, value in search_criteria.items():\n",
    "                \n",
    "                if type(value) is int or type(value) is float:\n",
    "                    if key == 'charges' and charges_op(record[key], value):\n",
    "                        criteria_match *= 1\n",
    "                    elif key == 'children' and children_op(record[key], value):\n",
    "                        criteria_match *= 1\n",
    "                    elif key == 'age' and age_op(record[key], value):\n",
    "                        criteria_match *= 1\n",
    "                    elif key == 'bmi' and bmi_op(record[key], value):\n",
    "                        criteria_match *= 1\n",
    "                    else:\n",
    "                        criteria_match *= 0\n",
    "                else:\n",
    "                    if record[key] == value:\n",
    "                        criteria_match *= 1\n",
    "                    else:\n",
    "                        criteria_match *=0\n",
    "            \n",
    "            if criteria_match == 1:\n",
    "                results.append(patient)\n",
    "        \n",
    "        return results\n",
    "    \n",
    "    def get_patient_data(self, patient_name):\n",
    "        return self.data.get(patient_name)\n",
    "    \n",
    "    def count_frequency(self, **search_criteria):\n",
    "        return len(self.filter_data(**search_criteria))\n",
    "    \n",
    "    def percent_of_total(self, **search_criteria):\n",
    "        percent = self.count_frequency(**search_criteria) / self.record_count * 100\n",
    "        return f'{percent}%'\n",
    "\n",
    "my_data = Insurance_Data('insurance.csv')\n",
    "my_data.create_dictionary()"
   ]
  },
  {
   "cell_type": "code",
   "execution_count": 4,
   "metadata": {},
   "outputs": [
    {
     "name": "stdout",
     "output_type": "stream",
     "text": [
      "['patient 17', 'patient 21', 'patient 27', 'patient 32', 'patient 41', 'patient 47', 'patient 51', 'patient 57', 'patient 79', 'patient 82', 'patient 103', 'patient 126', 'patient 131', 'patient 132', 'patient 135', 'patient 153', 'patient 155', 'patient 180', 'patient 200', 'patient 206', 'patient 222', 'patient 229', 'patient 242', 'patient 256', 'patient 268', 'patient 276', 'patient 284', 'patient 287', 'patient 322', 'patient 334', 'patient 335', 'patient 343', 'patient 361', 'patient 366', 'patient 367', 'patient 372', 'patient 373', 'patient 395', 'patient 406', 'patient 427', 'patient 428', 'patient 429', 'patient 463', 'patient 469', 'patient 472', 'patient 474', 'patient 486', 'patient 493', 'patient 509', 'patient 521', 'patient 523', 'patient 532', 'patient 549', 'patient 555', 'patient 562', 'patient 574', 'patient 575', 'patient 580', 'patient 589', 'patient 596', 'patient 598', 'patient 607', 'patient 613', 'patient 614', 'patient 617', 'patient 638', 'patient 648', 'patient 650', 'patient 659', 'patient 660', 'patient 663', 'patient 672', 'patient 697', 'patient 702', 'patient 709', 'patient 710', 'patient 721', 'patient 725', 'patient 729', 'patient 734', 'patient 757', 'patient 761', 'patient 765', 'patient 773', 'patient 793', 'patient 798', 'patient 826', 'patient 838', 'patient 839', 'patient 854', 'patient 864', 'patient 883', 'patient 906', 'patient 943', 'patient 972', 'patient 979', 'patient 984', 'patient 992', 'patient 996', 'patient 999', 'patient 1030', 'patient 1033', 'patient 1047', 'patient 1074', 'patient 1075', 'patient 1092', 'patient 1096', 'patient 1099', 'patient 1111', 'patient 1124', 'patient 1151', 'patient 1156', 'patient 1159', 'patient 1164', 'patient 1166', 'patient 1179', 'patient 1181', 'patient 1184', 'patient 1192', 'patient 1193', 'patient 1221', 'patient 1237', 'patient 1260', 'patient 1261', 'patient 1265', 'patient 1277', 'patient 1286', 'patient 1287', 'patient 1291', 'patient 1327', 'patient 1329', 'patient 1335']\n"
     ]
    }
   ],
   "source": [
    "test = my_data.search(sex='female', smoker='no', region='northeast')\n",
    "print(test)"
   ]
  },
  {
   "cell_type": "code",
   "execution_count": null,
   "metadata": {},
   "outputs": [],
   "source": []
  }
 ],
 "metadata": {
  "kernelspec": {
   "display_name": "Python 3",
   "language": "python",
   "name": "python3"
  },
  "language_info": {
   "codemirror_mode": {
    "name": "ipython",
    "version": 3
   },
   "file_extension": ".py",
   "mimetype": "text/x-python",
   "name": "python",
   "nbconvert_exporter": "python",
   "pygments_lexer": "ipython3",
   "version": "3.9.1"
  }
 },
 "nbformat": 4,
 "nbformat_minor": 4
}
