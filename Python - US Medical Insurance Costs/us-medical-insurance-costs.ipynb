{
 "cells": [
  {
   "cell_type": "markdown",
   "metadata": {},
   "source": [
    "# U.S. Medical Insurance Costs"
   ]
  },
  {
   "cell_type": "markdown",
   "metadata": {},
   "source": [
    "This is a Python portfolio project from **Codecademy's Data Scientist path**. The objective of this project is to apply what I know so far about Python to analyze the US Medical Insurance Costs data as provided in a CSV file. "
   ]
  },
  {
   "cell_type": "markdown",
   "metadata": {},
   "source": [
    "### Importing Modules\n",
    "For this project, I am importing the **csv** and **string** modules, and some functions from the **operator** module. The csv module will be used to read the data from the **insurance.csv** file. String will be used to help format the csv data properly with the correct data types (i.e., numeric values should be converted to *int* or *float* as appropriate). The operator functions will be used in a class method that will allow me to search based on specific parameters.\n",
    "\n",
    "While **pandas** and **matplotlib** will definitely make the analysis easier, at this point in time, I don't know how to use those just yet. Let's see how far I can go with just these modules!"
   ]
  },
  {
   "cell_type": "code",
   "execution_count": 1,
   "metadata": {},
   "outputs": [],
   "source": [
    "import csv\n",
    "import string\n",
    "from operator import lt, le, eq, ne, gt, ge\n",
    "letters = string.ascii_letters"
   ]
  },
  {
   "cell_type": "markdown",
   "metadata": {},
   "source": [
    "### Creating a class with methods to load and analyze the data\n",
    "I want to create a class that will allow me to load data from a csv file and perform basic calculations on it using class methods. These are the methods I will define for my class:\n",
    "\n",
    "\n",
    "- **get_data**: load data from csv and returns a dictionary with the patient keys and records\n",
    "- **search**: filter the data based on field/s and value/s (e.g., sex='female) and returns a dictionary with patient keys and records matching the criteria\n",
    "- **get_patient_data**: returns the patient record based on a patient key input\n",
    "- **count_frequency**: returns the number of records that matches the given criteria (like search but returns a number instead of a dictionary)\n",
    "- **percent_of_total**: returns the percentage of total based on count_frequency and a given base data set\n",
    "- **calculate_total**: returns total value of a specified field in a specified dictionary\n",
    "- **calculate_average**: returns average of a specified field in a specified dictionary\n",
    "- **calculate_max**: returns max of a specified field in a specified dictionary\n",
    "- **calculate_min**: returns min of a specified field in a specified dictionary\n"
   ]
  },
  {
   "cell_type": "code",
   "execution_count": 2,
   "metadata": {},
   "outputs": [],
   "source": [
    "class Insurance_Data:\n",
    "    \n",
    "    def __init__(self, csv_file):\n",
    "        self.csv_file = csv_file\n",
    "        self.data = {} # empty dictionary where CSV data will be loaded\n",
    "        \n",
    "    def __len__(self):\n",
    "        return len(self.data) # len will be based on the size of the dictionary\n",
    "    \n",
    "    def __repr__(self):\n",
    "        return repr(self.data) # printing an instance of this class will print the dictionary\n",
    "        \n",
    "    def get_data(self):\n",
    "        \n",
    "        with open(self.csv_file) as csv_data:\n",
    "            csv_contents = csv.DictReader(csv_data)\n",
    "            fields = csv_contents.fieldnames\n",
    "            \n",
    "            key = 1 # initializes the first patient key\n",
    "\n",
    "            for line in csv_contents:\n",
    "                dict_value = {} # temporary dictionary that will be fed into self.data\n",
    "                for field in fields:\n",
    "                    line_value = line[field]\n",
    "                    line_value_type = None # a variable that will help identify how to format the value of the field\n",
    "\n",
    "                    # a loop to check if the value is a string, float or int\n",
    "                    for letter in letters: \n",
    "                        \n",
    "                        # if a letter is found in value, value is string\n",
    "                        if letter in line_value:\n",
    "                            line_value_type = 'string'\n",
    "                            break\n",
    "                            \n",
    "                        # if no letters are found in value and '.' is not in value, value is an integer\n",
    "                        elif letter not in line_value and '.' not in line_value:\n",
    "                            line_value_type = 'int'\n",
    "                            \n",
    "                        # else, value is a float    \n",
    "                        else:\n",
    "                            line_value_type = 'float'\n",
    "\n",
    "                    # format value based on line_value_type\n",
    "                    \n",
    "                    if line_value_type == 'int':\n",
    "                        dict_value[field] = int(line_value)\n",
    "                    elif line_value_type == 'float':\n",
    "                        dict_value[field] = float(line_value)\n",
    "                    else:\n",
    "                        dict_value[field] = line_value\n",
    "                \n",
    "                # patient and record added to self.data\n",
    "                self.data.update({key: dict_value})\n",
    "                \n",
    "                # next patient key\n",
    "                key = key + 1\n",
    "            \n",
    "    def search(self, data=None, charges_op=eq, bmi_op=eq, children_op=eq, age_op=eq, **search_criteria):\n",
    "        \n",
    "        results = {}\n",
    "        \n",
    "        if data == None:\n",
    "            data = self.data # If no data_dictionary is provided, use data attribute of object\n",
    "        \n",
    "        for patient, record in data.items():\n",
    "            criteria_match = 1\n",
    "            for key, value in search_criteria.items():\n",
    "                \n",
    "                if type(value) is int or type(value) is float: # handles int and float comparison\n",
    "                    if key == 'charges' and charges_op(record[key], value):\n",
    "                        criteria_match *= 1\n",
    "                    elif key == 'children' and children_op(record[key], value):\n",
    "                        criteria_match *= 1\n",
    "                    elif key == 'age' and age_op(record[key], value):\n",
    "                        criteria_match *= 1\n",
    "                    elif key == 'bmi' and bmi_op(record[key], value):\n",
    "                        criteria_match *= 1\n",
    "                    else:\n",
    "                        criteria_match *= 0\n",
    "                else: # for other data types\n",
    "                    if record[key] == value:\n",
    "                        criteria_match *= 1\n",
    "                    else:\n",
    "                        criteria_match *=0\n",
    "            \n",
    "            if criteria_match == 1:\n",
    "                results.update({patient: record})\n",
    "        \n",
    "        return results\n",
    "    \n",
    "    def get_patient_data(self, patient_name):\n",
    "        return self.data.get(patient_name)\n",
    "    \n",
    "    def count_frequency(self, data=None, **search_criteria):\n",
    "        return len(self.search(data, **search_criteria))\n",
    "    \n",
    "    def percent_of_total(self, data=None, **search_criteria):\n",
    "        if data == None:\n",
    "            data = self.data\n",
    "        percent = self.count_frequency(data, **search_criteria) / len(data) * 100\n",
    "        return f'{percent}%'\n",
    "    \n",
    "    def calculate_total(self, record_key, data=None):\n",
    "        if data == None:\n",
    "            data = self.data\n",
    "        total = 0\n",
    "        for item in data.values():\n",
    "            total += item.get(record_key)\n",
    "        return total\n",
    "    \n",
    "    def calculate_average(self, record_key, data=None):\n",
    "        if data == None:\n",
    "            data = self.data\n",
    "        return self.calculate_total(record_key, data) / len(data)\n",
    "    \n",
    "    def calculate_max(self, record_key, data=None):\n",
    "        if data == None:\n",
    "            data = self.data\n",
    "        lst = [record[record_key] for record in data.values()]\n",
    "        return max(lst)\n",
    "    \n",
    "    def calculate_min(self, record_key, data=None):\n",
    "        if data == None:\n",
    "            data = self.data\n",
    "        lst = [record[record_key] for record in data.values()]\n",
    "        return min(lst)"
   ]
  },
  {
   "cell_type": "markdown",
   "metadata": {},
   "source": [
    "### Creating an Object\n",
    "Now that I have created the class and defined its methods, let's create an object for that class."
   ]
  },
  {
   "cell_type": "code",
   "execution_count": 3,
   "metadata": {},
   "outputs": [],
   "source": [
    "my_data = Insurance_Data('insurance.csv')\n",
    "my_data.get_data()"
   ]
  },
  {
   "cell_type": "markdown",
   "metadata": {},
   "source": [
    "### Exploring the Data\n",
    "Let's use the methods. It will be good to get an overview of our data: its size, count or proportion based on dimensions, average values, minimum values, and maximum values."
   ]
  },
  {
   "cell_type": "code",
   "execution_count": 30,
   "metadata": {},
   "outputs": [
    {
     "name": "stdout",
     "output_type": "stream",
     "text": [
      "Here's an overview of our data:\n",
      "\n",
      "    Number of records: 1338\n",
      "    Males: 676, Females: 662\n",
      "    Smokers: 274, Non-smokers: 1064\n",
      "    With children: 764, No children: 574\n",
      "    Average age: 39.20702541106129\n",
      "    Average BMI: 30.663396860986538\n",
      "    Average insurance cost: 13270.422265141257\n",
      "      \n",
      "The highest insurance paid by a patient amounted to 63770.42801 dollars.\n",
      "\n",
      "The patient who paid the highest cost is: {544: {'age': 54, 'sex': 'female', 'bmi': 47.41, 'children': 0, 'smoker': 'yes', 'region': 'southeast', 'charges': 63770.42801}}.\n",
      "\n",
      "While the lowest insurance paid by a patient was 1121.8739 dollars.\n",
      "\n",
      "The patient who paid the lowest cost is: {941: {'age': 18, 'sex': 'male', 'bmi': 23.21, 'children': 0, 'smoker': 'no', 'region': 'southeast', 'charges': 1121.8739}}.\n",
      "\n"
     ]
    }
   ],
   "source": [
    "cf = my_data.count_frequency\n",
    "percent = my_data.percent_of_total\n",
    "avg = my_data.calculate_average\n",
    "search = my_data.search\n",
    "get_max = my_data.calculate_max\n",
    "get_min = my_data.calculate_min\n",
    "number_of_records = len(my_data)\n",
    "male_count = cf(sex='male')\n",
    "female_count = cf(sex='female')\n",
    "smokers = cf(smoker='yes')\n",
    "non_smokers = cf(smoker='no')\n",
    "with_children = cf(children_op=ne, children=0)\n",
    "no_children = cf(children=0)\n",
    "average_age = avg('age')\n",
    "average_bmi = avg('bmi')\n",
    "average_cost = avg('charges')\n",
    "max_cost = get_max('charges')\n",
    "min_cost = get_min('charges')\n",
    "max_cost_patients = search(charges=max_cost)\n",
    "min_cost_patients = search(charges=min_cost)\n",
    "\n",
    "\n",
    "print(\n",
    "    f'Here\\'s an overview of our data:\\n\\n\\\n",
    "    Number of records: {number_of_records}\\n\\\n",
    "    Males: {male_count}, Females: {female_count}\\n\\\n",
    "    Smokers: {smokers}, Non-smokers: {non_smokers}\\n\\\n",
    "    With children: {with_children}, No children: {no_children}\\n\\\n",
    "    Average age: {average_age}\\n\\\n",
    "    Average BMI: {average_bmi}\\n\\\n",
    "    Average insurance cost: {average_cost}\\n\\\n",
    "      ')\n",
    "\n",
    "print(f'The highest insurance paid by a patient amounted to {max_cost} dollars.\\n')\n",
    "\n",
    "if len(max_cost_patients) > 1:\n",
    "    print(f'The patients who paid the highest costs are: {max_cost_patients}\\n')\n",
    "else:\n",
    "    print(f'The patient who paid the highest cost is: {max_cost_patients}.\\n')\n",
    "\n",
    "print(f'While the lowest insurance paid by a patient was {min_cost} dollars.\\n')\n",
    "if len(min_cost_patients) > 1:\n",
    "    print(f'The patients who paid the lowest costs are: {min_cost_patients}\\n')\n",
    "else:\n",
    "    print(f'The patient who paid the lowest cost is: {min_cost_patients}.\\n')"
   ]
  },
  {
   "cell_type": "markdown",
   "metadata": {},
   "source": [
    "In reality, insurance cost is impacted by various factors. While there's a more scientific approach to test correlation between cost and other variables in our dataset through statistical methods, we will use simple calculations and logic for now."
   ]
  },
  {
   "cell_type": "markdown",
   "metadata": {},
   "source": [
    "### Who is paying more between men and women?\n",
    "Does sex impact insurance costs? And if so, who is paying more? For the first test, let's see what the average costs are for males and females."
   ]
  },
  {
   "cell_type": "code",
   "execution_count": 5,
   "metadata": {},
   "outputs": [
    {
     "name": "stdout",
     "output_type": "stream",
     "text": [
      "The average insurance cost for males in our data is: 13956.751177721886 dollars.\n",
      "The average insurance cost for females in our data is: 12569.57884383534 dollars.\n"
     ]
    }
   ],
   "source": [
    "males = search(sex='male')\n",
    "females = search(sex='female')\n",
    "average_cost_male = avg('charges', males)\n",
    "average_cost_female = avg('charges', females)\n",
    "print(f'The average insurance cost for males in our data is: {average_cost_male} dollars.')\n",
    "print(f'The average insurance cost for females in our data is: {average_cost_female} dollars.')"
   ]
  },
  {
   "cell_type": "markdown",
   "metadata": {},
   "source": [
    "Our initial test using simple average shows that **men pay higher than women**. However, we should take note that the calculation captures other variables that potentially affect insurance costs (e.g., smoking, BMI, etc.) It is then important to check if the above holds true if all other factors are the same.\n",
    "\n",
    "So for our next step, let's take a specific subset of our data. We will recalculate the average cost for males and females who are 30 years old and below (i.e., at the prime of their lives), whose BMI do not exceed the upper limit of what is considered normal, who don't have children, don't smoke and are living in the northeast region of the US.\n",
    "\n",
    "For BMI, ideally, we should only be capturing the healthy range. However, because of method limitations, we will use everything below the upper limit of a healthy BMI for now. (You can improve on this code by rewriting the search method.)"
   ]
  },
  {
   "cell_type": "code",
   "execution_count": 6,
   "metadata": {},
   "outputs": [
    {
     "name": "stdout",
     "output_type": "stream",
     "text": [
      "The average insurance cost for males in our data is: 1900.4874142857145 dollars.\n",
      "The average insurance cost for females in our data is: 3064.219825 dollars.\n"
     ]
    }
   ],
   "source": [
    "normal_bmi = 24.9\n",
    "males_retest = search(sex='male', smoker='no', children_op=eq, children=0, bmi_op=le, bmi=normal_bmi, age_op=le, age=30, region='northeast')\n",
    "females_retest = search(sex='female', smoker='no', children_op=eq, children=0, bmi_op=le, bmi=normal_bmi, age_op=le, age=30, region='northeast')\n",
    "average_cost_male = avg('charges', males_retest)\n",
    "average_cost_female = avg('charges', females_retest)\n",
    "print(f'The average insurance cost for males in our data is: {average_cost_male} dollars.')\n",
    "print(f'The average insurance cost for females in our data is: {average_cost_female} dollars.')"
   ]
  },
  {
   "cell_type": "markdown",
   "metadata": {},
   "source": [
    "Based on the above, we can see that **men actually pay lower than women.** Let's see if this still holds true if we change another parameter in our criteria. Does this still hold true for smokers?"
   ]
  },
  {
   "cell_type": "code",
   "execution_count": 7,
   "metadata": {
    "scrolled": true
   },
   "outputs": [
    {
     "name": "stdout",
     "output_type": "stream",
     "text": [
      "The average insurance cost for males in our data is: 14943.3172 dollars.\n",
      "The average insurance cost for females in our data is: 14990.218233333333 dollars.\n"
     ]
    }
   ],
   "source": [
    "normal_bmi = 24.9\n",
    "males_retest = search(sex='male', smoker='yes', children_op=eq, children=0, bmi_op=le, bmi=normal_bmi, age_op=le, age=30, region='northeast')\n",
    "females_retest = search(sex='female', smoker='yes', children_op=eq, children=0, bmi_op=le, bmi=normal_bmi, age_op=le, age=30, region='northeast')\n",
    "average_cost_male = avg('charges', males_retest)\n",
    "average_cost_female = avg('charges', females_retest)\n",
    "print(f'The average insurance cost for males in our data is: {average_cost_male} dollars.')\n",
    "print(f'The average insurance cost for females in our data is: {average_cost_female} dollars.')"
   ]
  },
  {
   "cell_type": "markdown",
   "metadata": {},
   "source": [
    "While women are still paying higher than men, the gap has significantly decreased when looking at smokers. Let's go back to non-smokers and check the impact of having kids."
   ]
  },
  {
   "cell_type": "code",
   "execution_count": 8,
   "metadata": {},
   "outputs": [
    {
     "name": "stdout",
     "output_type": "stream",
     "text": [
      "The average insurance cost for males with kids in our data is: 4466.600759999999 dollars.\n",
      "The average insurance cost for males without kids in our data is: 1900.4874142857145 dollars.\n",
      "The average insurance cost for females with kids in our data is: 11657.971218 dollars.\n",
      "The average insurance cost for females without kids in our data is: 3064.219825 dollars.\n"
     ]
    }
   ],
   "source": [
    "males_kids = search(sex='male', smoker='no', children_op=ne, children=0, bmi_op=le, bmi=normal_bmi, age_op=le, age=30, region='northeast')\n",
    "males_no_kids = search(sex='male', smoker='no', children_op=eq, children=0, bmi_op=le, bmi=normal_bmi, age_op=le, age=30, region='northeast')\n",
    "females_kids = search(sex='female', smoker='no', children_op=ne, children=0, bmi_op=le, bmi=normal_bmi, age_op=le, age=30, region='northeast')\n",
    "females_no_kids = search(sex='female', smoker='no', children_op=eq, children=0, bmi_op=le, bmi=normal_bmi, age_op=le, age=30, region='northeast')\n",
    "average_cost_male_kids = avg('charges', males_kids)\n",
    "average_cost_male_no_kids = avg('charges', males_no_kids)\n",
    "average_cost_female_kids = avg('charges', females_kids)\n",
    "average_cost_female_no_kids = avg('charges', females_no_kids)\n",
    "print(f'The average insurance cost for males with kids in our data is: {average_cost_male_kids} dollars.')\n",
    "print(f'The average insurance cost for males without kids in our data is: {average_cost_male_no_kids} dollars.')\n",
    "print(f'The average insurance cost for females with kids in our data is: {average_cost_female_kids} dollars.')\n",
    "print(f'The average insurance cost for females without kids in our data is: {average_cost_female_no_kids} dollars.')"
   ]
  },
  {
   "cell_type": "markdown",
   "metadata": {},
   "source": [
    "In our kids vs. no kids scenario, we can see that **having kids has a higher insurance cost** vs. not having kids in both men and women subsets of our data."
   ]
  },
  {
   "cell_type": "markdown",
   "metadata": {},
   "source": [
    "### Next Steps\n",
    "\n",
    "The above are just basic investigations of our data. As I progress in my knowledge of Python, I plan to write functions that will test the correlation of variables and predict insurance costs using multiple regression."
   ]
  },
  {
   "cell_type": "code",
   "execution_count": null,
   "metadata": {},
   "outputs": [],
   "source": []
  }
 ],
 "metadata": {
  "kernelspec": {
   "display_name": "Python 3",
   "language": "python",
   "name": "python3"
  },
  "language_info": {
   "codemirror_mode": {
    "name": "ipython",
    "version": 3
   },
   "file_extension": ".py",
   "mimetype": "text/x-python",
   "name": "python",
   "nbconvert_exporter": "python",
   "pygments_lexer": "ipython3",
   "version": "3.9.1"
  }
 },
 "nbformat": 4,
 "nbformat_minor": 4
}
